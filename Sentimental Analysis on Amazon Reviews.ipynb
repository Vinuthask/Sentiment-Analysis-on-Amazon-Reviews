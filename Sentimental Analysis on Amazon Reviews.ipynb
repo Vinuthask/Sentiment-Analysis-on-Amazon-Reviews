{
 "cells": [
  {
   "cell_type": "code",
   "execution_count": 1,
   "metadata": {},
   "outputs": [],
   "source": [
    "#Import necessary packages:\n",
    "import pandas as pd\n",
    "import numpy as np\n",
    "import csv\n",
    "import seaborn as sns\n",
    "import matplotlib.pyplot as plt\n",
    "from nltk import word_tokenize\n",
    "from nltk.corpus import stopwords\n",
    "from nltk.stem import WordNetLemmatizer\n",
    "from collections import Counter\n",
    "from sklearn.feature_extraction.text import CountVectorizer, TfidfVectorizer, TfidfTransformer\n",
    "\n",
    "from sklearn.pipeline import Pipeline\n",
    "from sklearn.model_selection import GridSearchCV\n",
    "from sklearn.naive_bayes import MultinomialNB\n",
    "from sklearn.metrics import accuracy_score, confusion_matrix, f1_score, classification_report\n",
    "from scipy.sparse import csr_matrix"
   ]
  },
  {
   "cell_type": "code",
   "execution_count": 2,
   "metadata": {},
   "outputs": [],
   "source": [
    "#Loading .csv file to Pandas dataframe\n",
    "df= pd.read_csv('reviews.csv')"
   ]
  },
  {
   "cell_type": "code",
   "execution_count": 3,
   "metadata": {},
   "outputs": [],
   "source": [
    "#Protecting original data for future requirements\n",
    "data= pd.read_csv('reviews.csv')"
   ]
  },
  {
   "cell_type": "code",
   "execution_count": 4,
   "metadata": {},
   "outputs": [
    {
     "name": "stdout",
     "output_type": "stream",
     "text": [
      "<class 'pandas.core.frame.DataFrame'>\n",
      "RangeIndex: 551682 entries, 0 to 551681\n",
      "Data columns (total 2 columns):\n",
      "overall       551682 non-null float64\n",
      "reviewText    551466 non-null object\n",
      "dtypes: float64(1), object(1)\n",
      "memory usage: 8.4+ MB\n"
     ]
    }
   ],
   "source": [
    "#Exploring the data information:\n",
    "df.info()"
   ]
  },
  {
   "cell_type": "code",
   "execution_count": 5,
   "metadata": {},
   "outputs": [
    {
     "data": {
      "text/html": [
       "<div>\n",
       "<style scoped>\n",
       "    .dataframe tbody tr th:only-of-type {\n",
       "        vertical-align: middle;\n",
       "    }\n",
       "\n",
       "    .dataframe tbody tr th {\n",
       "        vertical-align: top;\n",
       "    }\n",
       "\n",
       "    .dataframe thead th {\n",
       "        text-align: right;\n",
       "    }\n",
       "</style>\n",
       "<table border=\"1\" class=\"dataframe\">\n",
       "  <thead>\n",
       "    <tr style=\"text-align: right;\">\n",
       "      <th></th>\n",
       "      <th>overall</th>\n",
       "      <th>reviewText</th>\n",
       "    </tr>\n",
       "  </thead>\n",
       "  <tbody>\n",
       "    <tr>\n",
       "      <th>0</th>\n",
       "      <td>5.0</td>\n",
       "      <td>My daughter wanted this book and the price on ...</td>\n",
       "    </tr>\n",
       "    <tr>\n",
       "      <th>1</th>\n",
       "      <td>5.0</td>\n",
       "      <td>I bought this zoku quick pop for my daughterr ...</td>\n",
       "    </tr>\n",
       "    <tr>\n",
       "      <th>2</th>\n",
       "      <td>4.0</td>\n",
       "      <td>There is no shortage of pop recipes available ...</td>\n",
       "    </tr>\n",
       "    <tr>\n",
       "      <th>3</th>\n",
       "      <td>5.0</td>\n",
       "      <td>This book is a must have if you get a Zoku (wh...</td>\n",
       "    </tr>\n",
       "    <tr>\n",
       "      <th>4</th>\n",
       "      <td>4.0</td>\n",
       "      <td>This cookbook is great.  I have really enjoyed...</td>\n",
       "    </tr>\n",
       "  </tbody>\n",
       "</table>\n",
       "</div>"
      ],
      "text/plain": [
       "   overall                                         reviewText\n",
       "0      5.0  My daughter wanted this book and the price on ...\n",
       "1      5.0  I bought this zoku quick pop for my daughterr ...\n",
       "2      4.0  There is no shortage of pop recipes available ...\n",
       "3      5.0  This book is a must have if you get a Zoku (wh...\n",
       "4      4.0  This cookbook is great.  I have really enjoyed..."
      ]
     },
     "execution_count": 5,
     "metadata": {},
     "output_type": "execute_result"
    }
   ],
   "source": [
    "#Exploring the data\n",
    "df.head()"
   ]
  },
  {
   "cell_type": "code",
   "execution_count": 6,
   "metadata": {},
   "outputs": [
    {
     "data": {
      "text/plain": [
       "216"
      ]
     },
     "execution_count": 6,
     "metadata": {},
     "output_type": "execute_result"
    }
   ],
   "source": [
    "#Number of missing values in reviews\n",
    "len(df[df['reviewText'].isnull()==True])"
   ]
  },
  {
   "cell_type": "code",
   "execution_count": 7,
   "metadata": {},
   "outputs": [],
   "source": [
    "#Dropping the NaN's in reviews column\n",
    "df=df.dropna(subset=['reviewText'])"
   ]
  },
  {
   "cell_type": "code",
   "execution_count": 8,
   "metadata": {},
   "outputs": [],
   "source": [
    "#Adding length column to the dataset\n",
    "df['review_length']= df['reviewText'].apply(len)"
   ]
  },
  {
   "cell_type": "markdown",
   "metadata": {},
   "source": [
    "## Visualization of data"
   ]
  },
  {
   "cell_type": "code",
   "execution_count": 9,
   "metadata": {},
   "outputs": [
    {
     "data": {
      "text/plain": [
       "(0, 5000)"
      ]
     },
     "execution_count": 9,
     "metadata": {},
     "output_type": "execute_result"
    },
    {
     "data": {
      "image/png": "[encoded data removed]",
      "text/plain": [
       "<Figure size 1080x216 with 5 Axes>"
      ]
     },
     "metadata": {},
     "output_type": "display_data"
    }
   ],
   "source": [
    "#Histogram grid plot\n",
    "g = sns.FacetGrid(data=df, col='overall')\n",
    "g.map(plt.hist, 'review_length')\n",
    "plt.xlim(0,5000)"
   ]
  },
  {
   "cell_type": "code",
   "execution_count": 10,
   "metadata": {},
   "outputs": [
    {
     "data": {
      "text/plain": [
       "5.0    349572\n",
       "4.0    105477\n",
       "3.0     45043\n",
       "1.0     27076\n",
       "2.0     24298\n",
       "Name: overall, dtype: int64"
      ]
     },
     "execution_count": 10,
     "metadata": {},
     "output_type": "execute_result"
    }
   ],
   "source": [
    "#Value counts of the overall rating\n",
    "df['overall'].value_counts()"
   ]
  },
  {
   "cell_type": "markdown",
   "metadata": {},
   "source": [
    "## Preprocessing the text"
   ]
  },
  {
   "cell_type": "code",
   "execution_count": 11,
   "metadata": {},
   "outputs": [],
   "source": [
    "#Converting all the text to lowercase\n",
    "df['reviewText']= df['reviewText'].str.lower()"
   ]
  },
  {
   "cell_type": "code",
   "execution_count": 12,
   "metadata": {},
   "outputs": [],
   "source": [
    "# Str replace all non-alphanumeric whitespace\n",
    "df[\"reviewText\"] = df[\"reviewText\"].str.replace('[^\\w\\s]','')"
   ]
  },
  {
   "cell_type": "code",
   "execution_count": 13,
   "metadata": {},
   "outputs": [],
   "source": [
    "#Removing all the numeric values in the text\n",
    "df[\"reviewText\"] = df[\"reviewText\"].str.replace('\\d+', '')"
   ]
  },
  {
   "cell_type": "code",
   "execution_count": 14,
   "metadata": {},
   "outputs": [],
   "source": [
    "#Tokenizing the text\n",
    "df[\"reviewText\"] = df[\"reviewText\"].apply(word_tokenize) "
   ]
  },
  {
   "cell_type": "code",
   "execution_count": 15,
   "metadata": {},
   "outputs": [],
   "source": [
    "#Function to remove stops words\n",
    "stop = stopwords.words('english')\n",
    "def remove_stopwords(tokens):\n",
    "    return([token for token in tokens if token not in stop])"
   ]
  },
  {
   "cell_type": "code",
   "execution_count": 16,
   "metadata": {},
   "outputs": [],
   "source": [
    "#Applying function to remove stop words\n",
    "df[\"reviewText\"] = df[\"reviewText\"].apply(lambda x: remove_stopwords(x)) "
   ]
  },
  {
   "cell_type": "code",
   "execution_count": 17,
   "metadata": {},
   "outputs": [],
   "source": [
    "# Instantiate and define the WordNetLemmatizer\n",
    "lemmatizer = WordNetLemmatizer()\n",
    "def lemmatize(tokens):\n",
    "    return([lemmatizer.lemmatize(token) for token in tokens])"
   ]
  },
  {
   "cell_type": "code",
   "execution_count": 18,
   "metadata": {},
   "outputs": [],
   "source": [
    "#Lemmatizing the text\n",
    "df['reviewText']=df['reviewText'].apply(lambda x: lemmatize(x))"
   ]
  },
  {
   "cell_type": "code",
   "execution_count": 19,
   "metadata": {},
   "outputs": [],
   "source": [
    "#Creating a positive and negative review column for predictions\n",
    "df['Positive_Negative']= [1 if x > 3 else 0 for x in df['overall']]"
   ]
  },
  {
   "cell_type": "code",
   "execution_count": 20,
   "metadata": {},
   "outputs": [
    {
     "data": {
      "text/html": [
       "<div>\n",
       "<style scoped>\n",
       "    .dataframe tbody tr th:only-of-type {\n",
       "        vertical-align: middle;\n",
       "    }\n",
       "\n",
       "    .dataframe tbody tr th {\n",
       "        vertical-align: top;\n",
       "    }\n",
       "\n",
       "    .dataframe thead th {\n",
       "        text-align: right;\n",
       "    }\n",
       "</style>\n",
       "<table border=\"1\" class=\"dataframe\">\n",
       "  <thead>\n",
       "    <tr style=\"text-align: right;\">\n",
       "      <th></th>\n",
       "      <th>overall</th>\n",
       "      <th>reviewText</th>\n",
       "      <th>review_length</th>\n",
       "      <th>Positive_Negative</th>\n",
       "    </tr>\n",
       "  </thead>\n",
       "  <tbody>\n",
       "    <tr>\n",
       "      <th>0</th>\n",
       "      <td>5.0</td>\n",
       "      <td>[daughter, wanted, book, price, amazon, best, ...</td>\n",
       "      <td>158</td>\n",
       "      <td>1</td>\n",
       "    </tr>\n",
       "    <tr>\n",
       "      <th>1</th>\n",
       "      <td>5.0</td>\n",
       "      <td>[bought, zoku, quick, pop, daughterr, zoku, qu...</td>\n",
       "      <td>125</td>\n",
       "      <td>1</td>\n",
       "    </tr>\n",
       "    <tr>\n",
       "      <th>2</th>\n",
       "      <td>4.0</td>\n",
       "      <td>[shortage, pop, recipe, available, free, web, ...</td>\n",
       "      <td>2353</td>\n",
       "      <td>1</td>\n",
       "    </tr>\n",
       "    <tr>\n",
       "      <th>3</th>\n",
       "      <td>5.0</td>\n",
       "      <td>[book, must, get, zoku, also, highly, recommen...</td>\n",
       "      <td>334</td>\n",
       "      <td>1</td>\n",
       "    </tr>\n",
       "    <tr>\n",
       "      <th>4</th>\n",
       "      <td>4.0</td>\n",
       "      <td>[cookbook, great, really, enjoyed, reviewing, ...</td>\n",
       "      <td>538</td>\n",
       "      <td>1</td>\n",
       "    </tr>\n",
       "  </tbody>\n",
       "</table>\n",
       "</div>"
      ],
      "text/plain": [
       "   overall                                         reviewText  review_length  \\\n",
       "0      5.0  [daughter, wanted, book, price, amazon, best, ...            158   \n",
       "1      5.0  [bought, zoku, quick, pop, daughterr, zoku, qu...            125   \n",
       "2      4.0  [shortage, pop, recipe, available, free, web, ...           2353   \n",
       "3      5.0  [book, must, get, zoku, also, highly, recommen...            334   \n",
       "4      4.0  [cookbook, great, really, enjoyed, reviewing, ...            538   \n",
       "\n",
       "   Positive_Negative  \n",
       "0                  1  \n",
       "1                  1  \n",
       "2                  1  \n",
       "3                  1  \n",
       "4                  1  "
      ]
     },
     "execution_count": 20,
     "metadata": {},
     "output_type": "execute_result"
    }
   ],
   "source": [
    "#Exploring the final data after text preprocessing\n",
    "df.head()"
   ]
  },
  {
   "cell_type": "markdown",
   "metadata": {},
   "source": [
    "## Building a model"
   ]
  },
  {
   "cell_type": "code",
   "execution_count": 21,
   "metadata": {},
   "outputs": [],
   "source": [
    "#Splitting the data into train and test data\n",
    "from sklearn.model_selection import train_test_split\n",
    "x_train, x_test, y_train, y_test = train_test_split(df.reviewText, df.Positive_Negative, random_state=0)"
   ]
  },
  {
   "cell_type": "code",
   "execution_count": 22,
   "metadata": {},
   "outputs": [
    {
     "name": "stdout",
     "output_type": "stream",
     "text": [
      "x_train shape: (413599,)\n",
      "y_train shape: (413599,)\n",
      "\n",
      "x_test shape: (137867,)\n",
      "y_test shape: (137867,)\n",
      "\n"
     ]
    }
   ],
   "source": [
    "#Exploring the training and testing datasets\n",
    "print(\"x_train shape: {}\".format(x_train.shape), end='\\n')\n",
    "print(\"y_train shape: {}\".format(y_train.shape), end='\\n\\n')\n",
    "print(\"x_test shape: {}\".format(x_test.shape), end='\\n')\n",
    "print(\"y_test shape: {}\".format(y_test.shape), end='\\n\\n')"
   ]
  },
  {
   "cell_type": "code",
   "execution_count": 23,
   "metadata": {},
   "outputs": [
    {
     "data": {
      "text/plain": [
       "GridSearchCV(cv=2, error_score='raise',\n",
       "       estimator=Pipeline(memory=None,\n",
       "     steps=[('vect', TfidfVectorizer(analyzer='word', binary=False, decode_error='strict',\n",
       "        dtype=<class 'numpy.int64'>, encoding='utf-8', input='content',\n",
       "        lowercase=False, max_df=1.0, max_features=None, min_df=5,\n",
       "        ngram_range=(1, 1), norm='l2', preprocessor=None, smooth_idf=True,\n",
       " ...inear_tf=False, use_idf=True)), ('clf', MultinomialNB(alpha=1.0, class_prior=None, fit_prior=True))]),\n",
       "       fit_params=None, iid=True, n_jobs=1,\n",
       "       param_grid={'vect__ngram_range': [(1, 1), (1, 2), (2, 2)], 'clf__alpha': [1, 0.1, 0.01]},\n",
       "       pre_dispatch='2*n_jobs', refit=True, return_train_score='warn',\n",
       "       scoring='accuracy', verbose=0)"
      ]
     },
     "execution_count": 23,
     "metadata": {},
     "output_type": "execute_result"
    }
   ],
   "source": [
    "# Creating a model\n",
    "vectorizer = TfidfVectorizer(min_df=5, lowercase=False, tokenizer=lambda doc: doc)\n",
    "clf= MultinomialNB()\n",
    "text_clf = Pipeline([('vect', vectorizer),\n",
    "                     ('tfidf', TfidfTransformer()),\n",
    "                     ('clf', MultinomialNB())])\n",
    "tuned_parameters = {\n",
    "    'vect__ngram_range': [(1, 1), (1, 2), (2, 2)],\n",
    "    'clf__alpha': [1, 1e-1, 1e-2]\n",
    "}\n",
    "clf = GridSearchCV(text_clf, tuned_parameters, cv=2, scoring='accuracy')\n",
    "clf.fit(x_train, y_train)"
   ]
  },
  {
   "cell_type": "code",
   "execution_count": 24,
   "metadata": {},
   "outputs": [],
   "source": [
    "#Predicting on test data\n",
    "pred= clf.predict(x_test)"
   ]
  },
  {
   "cell_type": "markdown",
   "metadata": {},
   "source": [
    "## Predictions evaluation"
   ]
  },
  {
   "cell_type": "code",
   "execution_count": 34,
   "metadata": {},
   "outputs": [
    {
     "name": "stdout",
     "output_type": "stream",
     "text": [
      "             precision    recall  f1-score   support\n",
      "\n",
      "          0       0.82      0.39      0.53     23719\n",
      "          1       0.89      0.98      0.93    114148\n",
      "\n",
      "avg / total       0.87      0.88      0.86    137867\n",
      "\n"
     ]
    }
   ],
   "source": [
    "#Getting Classification report\n",
    "print(classification_report(y_test, pred))"
   ]
  },
  {
   "cell_type": "code",
   "execution_count": 26,
   "metadata": {},
   "outputs": [
    {
     "name": "stdout",
     "output_type": "stream",
     "text": [
      "Accuracy:   0.880\n"
     ]
    }
   ],
   "source": [
    "#Accuracy score on the test data\n",
    "score = accuracy_score(y_test, pred)\n",
    "print(\"Accuracy:   {:.3f}\".format(score))"
   ]
  },
  {
   "cell_type": "markdown",
   "metadata": {},
   "source": [
    "## Testing the predictions on single review"
   ]
  },
  {
   "cell_type": "code",
   "execution_count": 27,
   "metadata": {},
   "outputs": [
    {
     "name": "stdout",
     "output_type": "stream",
     "text": [
      "In general, furniture gives me sticker shock, especially small tables like this. For $80, this is a bargain. The package arrived double-boxed and was in great shape. It took all of five minutes to put it together - the legs screw into the table top and it's ready...no need to mess around with putting the drawer together or installing glides. It's a dark cherry finish and looks great. There's no floor protectors and if you like to use the hard plastic nail-in kind, they won't work. The legs have pre-drilled holes but I'm not sure why. They're wide enough at the base to accommodate one-inch felt pads without spilling over and showing. All in all, a very nice value. For the price and fit/finish, it more than met my expectations.\n",
      "Actual Rating:     5.0\n",
      "Predicted Rating:  1\n"
     ]
    }
   ],
   "source": [
    "# POSITIVE REVIEW\n",
    "pr = data['reviewText'][355515]\n",
    "print(pr)\n",
    "print(\"Actual Rating:    \",data['overall'][355515])\n",
    "prediction= clf.predict([x_train[355515]])[0]\n",
    "print(\"Predicted Rating: \", prediction)"
   ]
  },
  {
   "cell_type": "code",
   "execution_count": 28,
   "metadata": {},
   "outputs": [
    {
     "name": "stdout",
     "output_type": "stream",
     "text": [
      "I needed to cover my UGLY apartment toilet.  This did the job quite well.  These are standard bathroom rugs and covers,  nothing fancy. And worth the price.\n",
      "Actual Rating:     5.0\n",
      "Predicted Rating:  1\n"
     ]
    }
   ],
   "source": [
    "# POSITIVE REVIEW\n",
    "pr = data['reviewText'][439887]\n",
    "print(pr)\n",
    "print(\"Actual Rating:    \",data['overall'][439887])\n",
    "prediction= clf.predict([x_train[439887]])[0]\n",
    "print(\"Predicted Rating: \", prediction)"
   ]
  },
  {
   "cell_type": "code",
   "execution_count": 29,
   "metadata": {},
   "outputs": [
    {
     "name": "stdout",
     "output_type": "stream",
     "text": [
      "I would not recommend buying this ice cream maker.  It is made entirely out of cheap plastic and the motor sounds like a dentist drill.  Even the canister is made out of plastic and now there are scratches in it from when I scooped the ice cream out with a metal spoon.  I followed the directions exactly and after 1 hour it was still liquid.The next time I used it (again having the canister in the freezer for 24 hours prior to making the recipe), I put the mixture in the canister and then put it in the freezer and covered it with tin foil.  I hand-stirred the mixture every 10 minutes and after 1 hour, it was done.Instead of buying this product, I would recommend mixing the ingredients together and then putting it in a plain plastic container directly in the freezer.  It will take 8-10 hours for it to harden.  You can use the following recipe to start:10 oz plain frozen strawberries (slightly thawed)1/2 cup sugar10 oz heavy whipping creamPuree the strawberries and sugar.  Mix in the whipping cream with the other ingredients for about 2 minutes or until the whipping cream thickens.  Pour into a plastic container and place in the freezer.  You may wish to stir the mixture every 2 hours so that it hardens more quickly.\n",
      "Actual Rating:     1.0\n",
      "Predicted Rating:  0\n"
     ]
    }
   ],
   "source": [
    "# Negative REVIEW\n",
    "nr = data['reviewText'][489]\n",
    "print(nr)\n",
    "print(\"Actual Rating:    \",data['overall'][489])\n",
    "prediction= clf.predict([x_train[489]])[0]\n",
    "print(\"Predicted Rating: \", prediction)"
   ]
  },
  {
   "cell_type": "code",
   "execution_count": 30,
   "metadata": {},
   "outputs": [
    {
     "name": "stdout",
     "output_type": "stream",
     "text": [
      "After just over a week my unit began to make a clicking noise like a moving part was hitting something.  The back on all these also gets quite hot.\n",
      "Actual Rating:     1.0\n",
      "Predicted Rating:  0\n"
     ]
    }
   ],
   "source": [
    "# Negative REVIEW\n",
    "nr = data['reviewText'][578]\n",
    "print(nr)\n",
    "print(\"Actual Rating:    \",data['overall'][578])\n",
    "prediction= clf.predict([x_train[578]])[0]\n",
    "print(\"Predicted Rating: \", prediction)"
   ]
  },
  {
   "cell_type": "markdown",
   "metadata": {},
   "source": [
    "## Evaluating the most important features"
   ]
  },
  {
   "cell_type": "code",
   "execution_count": 31,
   "metadata": {},
   "outputs": [],
   "source": [
    "#Assiging best estimators\n",
    "vectorizer = clf.best_estimator_.named_steps['vect']\n",
    "classifier = clf.best_estimator_.named_steps['clf']"
   ]
  },
  {
   "cell_type": "code",
   "execution_count": 32,
   "metadata": {},
   "outputs": [],
   "source": [
    "#Defining a function\n",
    "def most_informative_feature(vectorizer, classifier, n=20):\n",
    "    class_labels = classifier.classes_\n",
    "    feature_names = vectorizer.get_feature_names()\n",
    "    topn_class1 = sorted(zip(classifier.coef_[0], feature_names))[:n]\n",
    "    topn_class2 = sorted(zip(classifier.coef_[0], feature_names))[-n:]\n",
    "    \n",
    "    #Dataframe for positive words\n",
    "    data1=pd.DataFrame([])\n",
    "    for coef, feat in topn_class2:\n",
    "        #result1=class_labels[1], coef, feat\n",
    "        result1=class_labels[1]\n",
    "        result2=coef\n",
    "        result3=feat\n",
    "        data1=data1.append(pd.DataFrame({'Pos': result1,'Coef': result2,'Word': result3}, index=[0]), ignore_index=True)\n",
    "    \n",
    "    #Dataframe for negative words\n",
    "    data2=pd.DataFrame([])\n",
    "    for coef, feat in reversed(topn_class1):\n",
    "        #result2=class_labels[0], coef, feat\n",
    "        result1=class_labels[0]\n",
    "        result2=coef\n",
    "        result3=feat\n",
    "        data2=data2.append(pd.DataFrame({'Neg': result1,'Coef': result2,'Word': result3}, index=[0]), ignore_index=True)\n",
    "         \n",
    "    #Returning the two dataframes togeather\n",
    "    return(pd.concat([data1, data2], axis=1))\n",
    "\n",
    "#Calling the function\n",
    "df=most_informative_feature(vectorizer, classifier)"
   ]
  },
  {
   "cell_type": "code",
   "execution_count": 33,
   "metadata": {},
   "outputs": [
    {
     "data": {
      "text/html": [
       "<div>\n",
       "<style scoped>\n",
       "    .dataframe tbody tr th:only-of-type {\n",
       "        vertical-align: middle;\n",
       "    }\n",
       "\n",
       "    .dataframe tbody tr th {\n",
       "        vertical-align: top;\n",
       "    }\n",
       "\n",
       "    .dataframe thead th {\n",
       "        text-align: right;\n",
       "    }\n",
       "</style>\n",
       "<table border=\"1\" class=\"dataframe\">\n",
       "  <thead>\n",
       "    <tr style=\"text-align: right;\">\n",
       "      <th></th>\n",
       "      <th>Pos</th>\n",
       "      <th>Coef</th>\n",
       "      <th>Word</th>\n",
       "      <th>Neg</th>\n",
       "      <th>Coef</th>\n",
       "      <th>Word</th>\n",
       "    </tr>\n",
       "  </thead>\n",
       "  <tbody>\n",
       "    <tr>\n",
       "      <th>0</th>\n",
       "      <td>1</td>\n",
       "      <td>-7.796302</td>\n",
       "      <td>time</td>\n",
       "      <td>0</td>\n",
       "      <td>-16.875581</td>\n",
       "      <td>already warped</td>\n",
       "    </tr>\n",
       "    <tr>\n",
       "      <th>1</th>\n",
       "      <td>1</td>\n",
       "      <td>-7.789897</td>\n",
       "      <td>really</td>\n",
       "      <td>0</td>\n",
       "      <td>-16.875581</td>\n",
       "      <td>already trash</td>\n",
       "    </tr>\n",
       "    <tr>\n",
       "      <th>2</th>\n",
       "      <td>1</td>\n",
       "      <td>-7.777033</td>\n",
       "      <td>perfect</td>\n",
       "      <td>0</td>\n",
       "      <td>-16.875581</td>\n",
       "      <td>already threw</td>\n",
       "    </tr>\n",
       "    <tr>\n",
       "      <th>3</th>\n",
       "      <td>1</td>\n",
       "      <td>-7.771246</td>\n",
       "      <td>set</td>\n",
       "      <td>0</td>\n",
       "      <td>-16.875581</td>\n",
       "      <td>already dull</td>\n",
       "    </tr>\n",
       "    <tr>\n",
       "      <th>4</th>\n",
       "      <td>1</td>\n",
       "      <td>-7.769299</td>\n",
       "      <td>clean</td>\n",
       "      <td>0</td>\n",
       "      <td>-16.875581</td>\n",
       "      <td>almost thereok</td>\n",
       "    </tr>\n",
       "    <tr>\n",
       "      <th>5</th>\n",
       "      <td>1</td>\n",
       "      <td>-7.763057</td>\n",
       "      <td>product</td>\n",
       "      <td>0</td>\n",
       "      <td>-16.875581</td>\n",
       "      <td>almost suction</td>\n",
       "    </tr>\n",
       "    <tr>\n",
       "      <th>6</th>\n",
       "      <td>1</td>\n",
       "      <td>-7.716927</td>\n",
       "      <td>make</td>\n",
       "      <td>0</td>\n",
       "      <td>-16.875581</td>\n",
       "      <td>allowing return</td>\n",
       "    </tr>\n",
       "    <tr>\n",
       "      <th>7</th>\n",
       "      <td>1</td>\n",
       "      <td>-7.691451</td>\n",
       "      <td>knife</td>\n",
       "      <td>0</td>\n",
       "      <td>-16.875581</td>\n",
       "      <td>allegedly written</td>\n",
       "    </tr>\n",
       "    <tr>\n",
       "      <th>8</th>\n",
       "      <td>1</td>\n",
       "      <td>-7.674034</td>\n",
       "      <td>nice</td>\n",
       "      <td>0</td>\n",
       "      <td>-16.875581</td>\n",
       "      <td>air squeeze</td>\n",
       "    </tr>\n",
       "    <tr>\n",
       "      <th>9</th>\n",
       "      <td>1</td>\n",
       "      <td>-7.624225</td>\n",
       "      <td>like</td>\n",
       "      <td>0</td>\n",
       "      <td>-16.875581</td>\n",
       "      <td>aint worth</td>\n",
       "    </tr>\n",
       "    <tr>\n",
       "      <th>10</th>\n",
       "      <td>1</td>\n",
       "      <td>-7.605311</td>\n",
       "      <td>good</td>\n",
       "      <td>0</td>\n",
       "      <td>-16.875581</td>\n",
       "      <td>address email</td>\n",
       "    </tr>\n",
       "    <tr>\n",
       "      <th>11</th>\n",
       "      <td>1</td>\n",
       "      <td>-7.573895</td>\n",
       "      <td>work</td>\n",
       "      <td>0</td>\n",
       "      <td>-16.875581</td>\n",
       "      <td>additionally taste</td>\n",
       "    </tr>\n",
       "    <tr>\n",
       "      <th>12</th>\n",
       "      <td>1</td>\n",
       "      <td>-7.566697</td>\n",
       "      <td>well</td>\n",
       "      <td>0</td>\n",
       "      <td>-16.875581</td>\n",
       "      <td>ad state</td>\n",
       "    </tr>\n",
       "    <tr>\n",
       "      <th>13</th>\n",
       "      <td>1</td>\n",
       "      <td>-7.521716</td>\n",
       "      <td>pan</td>\n",
       "      <td>0</td>\n",
       "      <td>-16.875581</td>\n",
       "      <td>actual practice</td>\n",
       "    </tr>\n",
       "    <tr>\n",
       "      <th>14</th>\n",
       "      <td>1</td>\n",
       "      <td>-7.513495</td>\n",
       "      <td>use</td>\n",
       "      <td>0</td>\n",
       "      <td>-16.875581</td>\n",
       "      <td>action suit</td>\n",
       "    </tr>\n",
       "    <tr>\n",
       "      <th>15</th>\n",
       "      <td>1</td>\n",
       "      <td>-7.510012</td>\n",
       "      <td>easy</td>\n",
       "      <td>0</td>\n",
       "      <td>-16.875581</td>\n",
       "      <td>according repair</td>\n",
       "    </tr>\n",
       "    <tr>\n",
       "      <th>16</th>\n",
       "      <td>1</td>\n",
       "      <td>-7.489496</td>\n",
       "      <td>coffee</td>\n",
       "      <td>0</td>\n",
       "      <td>-16.875581</td>\n",
       "      <td>accessible co</td>\n",
       "    </tr>\n",
       "    <tr>\n",
       "      <th>17</th>\n",
       "      <td>1</td>\n",
       "      <td>-7.461823</td>\n",
       "      <td>one</td>\n",
       "      <td>0</td>\n",
       "      <td>-16.875581</td>\n",
       "      <td>absolutely worthless</td>\n",
       "    </tr>\n",
       "    <tr>\n",
       "      <th>18</th>\n",
       "      <td>1</td>\n",
       "      <td>-7.443732</td>\n",
       "      <td>love</td>\n",
       "      <td>0</td>\n",
       "      <td>-16.875581</td>\n",
       "      <td>absolute waste</td>\n",
       "    </tr>\n",
       "    <tr>\n",
       "      <th>19</th>\n",
       "      <td>1</td>\n",
       "      <td>-7.358117</td>\n",
       "      <td>great</td>\n",
       "      <td>0</td>\n",
       "      <td>-16.875581</td>\n",
       "      <td>absolute piece</td>\n",
       "    </tr>\n",
       "  </tbody>\n",
       "</table>\n",
       "</div>"
      ],
      "text/plain": [
       "    Pos      Coef     Word  Neg       Coef                  Word\n",
       "0     1 -7.796302     time    0 -16.875581        already warped\n",
       "1     1 -7.789897   really    0 -16.875581         already trash\n",
       "2     1 -7.777033  perfect    0 -16.875581         already threw\n",
       "3     1 -7.771246      set    0 -16.875581          already dull\n",
       "4     1 -7.769299    clean    0 -16.875581        almost thereok\n",
       "5     1 -7.763057  product    0 -16.875581        almost suction\n",
       "6     1 -7.716927     make    0 -16.875581       allowing return\n",
       "7     1 -7.691451    knife    0 -16.875581     allegedly written\n",
       "8     1 -7.674034     nice    0 -16.875581           air squeeze\n",
       "9     1 -7.624225     like    0 -16.875581            aint worth\n",
       "10    1 -7.605311     good    0 -16.875581         address email\n",
       "11    1 -7.573895     work    0 -16.875581    additionally taste\n",
       "12    1 -7.566697     well    0 -16.875581              ad state\n",
       "13    1 -7.521716      pan    0 -16.875581       actual practice\n",
       "14    1 -7.513495      use    0 -16.875581           action suit\n",
       "15    1 -7.510012     easy    0 -16.875581      according repair\n",
       "16    1 -7.489496   coffee    0 -16.875581         accessible co\n",
       "17    1 -7.461823      one    0 -16.875581  absolutely worthless\n",
       "18    1 -7.443732     love    0 -16.875581        absolute waste\n",
       "19    1 -7.358117    great    0 -16.875581        absolute piece"
      ]
     },
     "execution_count": 33,
     "metadata": {},
     "output_type": "execute_result"
    }
   ],
   "source": [
    "#Print the output of words\n",
    "df"
   ]
  },
  {
   "cell_type": "code",
   "execution_count": null,
   "metadata": {},
   "outputs": [],
   "source": []
  }
 ],
 "metadata": {
  "kernelspec": {
   "display_name": "Python 3",
   "language": "python",
   "name": "python3"
  },
  "language_info": {
   "codemirror_mode": {
    "name": "ipython",
    "version": 3
   },
   "file_extension": ".py",
   "mimetype": "text/x-python",
   "name": "python",
   "nbconvert_exporter": "python",
   "pygments_lexer": "ipython3",
   "version": "3.6.5"
  }
 },
 "nbformat": 4,
 "nbformat_minor": 2
}
