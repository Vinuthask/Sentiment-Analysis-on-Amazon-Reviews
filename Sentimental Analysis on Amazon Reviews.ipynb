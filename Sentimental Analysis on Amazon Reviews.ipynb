{
 "cells": [
  {
   "cell_type": "code",
   "execution_count": 1,
   "metadata": {},
   "outputs": [],
   "source": [
    "#Import necessary packages:\n",
    "import pandas as pd\n",
    "import numpy as np\n",
    "import csv\n",
    "import seaborn as sns\n",
    "import matplotlib.pyplot as plt\n",
    "from nltk import word_tokenize\n",
    "from nltk.corpus import stopwords\n",
    "from nltk.stem import WordNetLemmatizer\n",
    "from collections import Counter\n",
    "from sklearn.feature_extraction.text import CountVectorizer, TfidfVectorizer\n",
    "\n",
    "from sklearn.naive_bayes import MultinomialNB\n",
    "from sklearn.metrics import accuracy_score, confusion_matrix, f1_score, classification_report\n",
    "from scipy.sparse import csr_matrix"
   ]
  },
  {
   "cell_type": "code",
   "execution_count": 2,
   "metadata": {},
   "outputs": [],
   "source": [
    "#Loading .csv file to Pandas dataframe\n",
    "df= pd.read_csv('reviews.csv')"
   ]
  },
  {
   "cell_type": "code",
   "execution_count": 3,
   "metadata": {},
   "outputs": [],
   "source": [
    "#Protecting original data for future requirements\n",
    "data= pd.read_csv('reviews.csv')"
   ]
  },
  {
   "cell_type": "code",
   "execution_count": 4,
   "metadata": {},
   "outputs": [
    {
     "name": "stdout",
     "output_type": "stream",
     "text": [
      "<class 'pandas.core.frame.DataFrame'>\n",
      "RangeIndex: 551682 entries, 0 to 551681\n",
      "Data columns (total 2 columns):\n",
      "overall       551682 non-null float64\n",
      "reviewText    551466 non-null object\n",
      "dtypes: float64(1), object(1)\n",
      "memory usage: 8.4+ MB\n"
     ]
    }
   ],
   "source": [
    "#Exploring the data information:\n",
    "df.info()"
   ]
  },
  {
   "cell_type": "code",
   "execution_count": 5,
   "metadata": {},
   "outputs": [
    {
     "data": {
      "text/html": [
       "<div>\n",
       "<style scoped>\n",
       "    .dataframe tbody tr th:only-of-type {\n",
       "        vertical-align: middle;\n",
       "    }\n",
       "\n",
       "    .dataframe tbody tr th {\n",
       "        vertical-align: top;\n",
       "    }\n",
       "\n",
       "    .dataframe thead th {\n",
       "        text-align: right;\n",
       "    }\n",
       "</style>\n",
       "<table border=\"1\" class=\"dataframe\">\n",
       "  <thead>\n",
       "    <tr style=\"text-align: right;\">\n",
       "      <th></th>\n",
       "      <th>overall</th>\n",
       "      <th>reviewText</th>\n",
       "    </tr>\n",
       "  </thead>\n",
       "  <tbody>\n",
       "    <tr>\n",
       "      <th>0</th>\n",
       "      <td>5.0</td>\n",
       "      <td>My daughter wanted this book and the price on ...</td>\n",
       "    </tr>\n",
       "    <tr>\n",
       "      <th>1</th>\n",
       "      <td>5.0</td>\n",
       "      <td>I bought this zoku quick pop for my daughterr ...</td>\n",
       "    </tr>\n",
       "    <tr>\n",
       "      <th>2</th>\n",
       "      <td>4.0</td>\n",
       "      <td>There is no shortage of pop recipes available ...</td>\n",
       "    </tr>\n",
       "    <tr>\n",
       "      <th>3</th>\n",
       "      <td>5.0</td>\n",
       "      <td>This book is a must have if you get a Zoku (wh...</td>\n",
       "    </tr>\n",
       "    <tr>\n",
       "      <th>4</th>\n",
       "      <td>4.0</td>\n",
       "      <td>This cookbook is great.  I have really enjoyed...</td>\n",
       "    </tr>\n",
       "  </tbody>\n",
       "</table>\n",
       "</div>"
      ],
      "text/plain": [
       "   overall                                         reviewText\n",
       "0      5.0  My daughter wanted this book and the price on ...\n",
       "1      5.0  I bought this zoku quick pop for my daughterr ...\n",
       "2      4.0  There is no shortage of pop recipes available ...\n",
       "3      5.0  This book is a must have if you get a Zoku (wh...\n",
       "4      4.0  This cookbook is great.  I have really enjoyed..."
      ]
     },
     "execution_count": 5,
     "metadata": {},
     "output_type": "execute_result"
    }
   ],
   "source": [
    "#Exploring the data\n",
    "df.head()"
   ]
  },
  {
   "cell_type": "code",
   "execution_count": 6,
   "metadata": {},
   "outputs": [
    {
     "data": {
      "text/plain": [
       "216"
      ]
     },
     "execution_count": 6,
     "metadata": {},
     "output_type": "execute_result"
    }
   ],
   "source": [
    "#Number of missing values in reviews\n",
    "len(df[df['reviewText'].isnull()==True])"
   ]
  },
  {
   "cell_type": "code",
   "execution_count": 7,
   "metadata": {},
   "outputs": [],
   "source": [
    "#Dropping the NaN's in reviews column\n",
    "df=df.dropna(subset=['reviewText'])"
   ]
  },
  {
   "cell_type": "code",
   "execution_count": 8,
   "metadata": {},
   "outputs": [],
   "source": [
    "#Adding length column to the dataset\n",
    "df['review_length']= df['reviewText'].apply(len)"
   ]
  },
  {
   "cell_type": "markdown",
   "metadata": {},
   "source": [
    "## Visualization of data"
   ]
  },
  {
   "cell_type": "code",
   "execution_count": 9,
   "metadata": {},
   "outputs": [
    {
     "data": {
      "text/plain": [
       "(0, 5000)"
      ]
     },
     "execution_count": 9,
     "metadata": {},
     "output_type": "execute_result"
    },
    {
     "data": {
      "image/png": "[encoded data removed]",
      "text/plain": [
       "<Figure size 1080x216 with 5 Axes>"
      ]
     },
     "metadata": {},
     "output_type": "display_data"
    }
   ],
   "source": [
    "#Histogram grid plot\n",
    "g = sns.FacetGrid(data=df, col='overall')\n",
    "g.map(plt.hist, 'review_length')\n",
    "plt.xlim(0,5000)"
   ]
  },
  {
   "cell_type": "code",
   "execution_count": 10,
   "metadata": {},
   "outputs": [
    {
     "data": {
      "text/plain": [
       "5.0    349572\n",
       "4.0    105477\n",
       "3.0     45043\n",
       "1.0     27076\n",
       "2.0     24298\n",
       "Name: overall, dtype: int64"
      ]
     },
     "execution_count": 10,
     "metadata": {},
     "output_type": "execute_result"
    }
   ],
   "source": [
    "#Value counts of the overall rating\n",
    "df['overall'].value_counts()"
   ]
  },
  {
   "cell_type": "code",
   "execution_count": 11,
   "metadata": {},
   "outputs": [],
   "source": [
    "#Converting all the text to lowercase\n",
    "df['reviewText']= df['reviewText'].str.lower()"
   ]
  },
  {
   "cell_type": "code",
   "execution_count": 12,
   "metadata": {},
   "outputs": [],
   "source": [
    "# Str replace all non-alphanumeric whitespace\n",
    "df[\"reviewText\"] = df[\"reviewText\"].str.replace('[^\\w\\s]','')"
   ]
  },
  {
   "cell_type": "code",
   "execution_count": 13,
   "metadata": {},
   "outputs": [],
   "source": [
    "#Removing all the numeric values in the text\n",
    "df[\"reviewText\"] = df[\"reviewText\"].str.replace('\\d+', '')"
   ]
  },
  {
   "cell_type": "code",
   "execution_count": 14,
   "metadata": {},
   "outputs": [],
   "source": [
    "#Tokenizing the text\n",
    "df[\"reviewText\"] = df[\"reviewText\"].apply(word_tokenize) "
   ]
  },
  {
   "cell_type": "code",
   "execution_count": 15,
   "metadata": {},
   "outputs": [],
   "source": [
    "#Function to remove stops words\n",
    "stop = stopwords.words('english')\n",
    "def remove_stopwords(tokens):\n",
    "    return([token for token in tokens if token not in stop])"
   ]
  },
  {
   "cell_type": "code",
   "execution_count": 16,
   "metadata": {},
   "outputs": [],
   "source": [
    "#Applying function to remove stop words\n",
    "df[\"reviewText\"] = df[\"reviewText\"].apply(lambda x: remove_stopwords(x)) "
   ]
  },
  {
   "cell_type": "code",
   "execution_count": 17,
   "metadata": {},
   "outputs": [],
   "source": [
    "# Instantiate and define the WordNetLemmatizer\n",
    "lemmatizer = WordNetLemmatizer()\n",
    "def lemmatize(tokens):\n",
    "    return([lemmatizer.lemmatize(token) for token in tokens])"
   ]
  },
  {
   "cell_type": "code",
   "execution_count": 18,
   "metadata": {},
   "outputs": [],
   "source": [
    "#Lemmatizing the text\n",
    "df['reviewText']=df['reviewText'].apply(lambda x: lemmatize(x))"
   ]
  },
  {
   "cell_type": "code",
   "execution_count": 19,
   "metadata": {},
   "outputs": [],
   "source": [
    "#Creating a positive and negative review column for predictions\n",
    "df['Positive_Negative']= [1 if x > 3 else 0 for x in df['overall']]"
   ]
  },
  {
   "cell_type": "code",
   "execution_count": 20,
   "metadata": {},
   "outputs": [
    {
     "data": {
      "text/html": [
       "<div>\n",
       "<style scoped>\n",
       "    .dataframe tbody tr th:only-of-type {\n",
       "        vertical-align: middle;\n",
       "    }\n",
       "\n",
       "    .dataframe tbody tr th {\n",
       "        vertical-align: top;\n",
       "    }\n",
       "\n",
       "    .dataframe thead th {\n",
       "        text-align: right;\n",
       "    }\n",
       "</style>\n",
       "<table border=\"1\" class=\"dataframe\">\n",
       "  <thead>\n",
       "    <tr style=\"text-align: right;\">\n",
       "      <th></th>\n",
       "      <th>overall</th>\n",
       "      <th>reviewText</th>\n",
       "      <th>review_length</th>\n",
       "      <th>Positive_Negative</th>\n",
       "    </tr>\n",
       "  </thead>\n",
       "  <tbody>\n",
       "    <tr>\n",
       "      <th>0</th>\n",
       "      <td>5.0</td>\n",
       "      <td>[daughter, wanted, book, price, amazon, best, ...</td>\n",
       "      <td>158</td>\n",
       "      <td>1</td>\n",
       "    </tr>\n",
       "    <tr>\n",
       "      <th>1</th>\n",
       "      <td>5.0</td>\n",
       "      <td>[bought, zoku, quick, pop, daughterr, zoku, qu...</td>\n",
       "      <td>125</td>\n",
       "      <td>1</td>\n",
       "    </tr>\n",
       "    <tr>\n",
       "      <th>2</th>\n",
       "      <td>4.0</td>\n",
       "      <td>[shortage, pop, recipe, available, free, web, ...</td>\n",
       "      <td>2353</td>\n",
       "      <td>1</td>\n",
       "    </tr>\n",
       "    <tr>\n",
       "      <th>3</th>\n",
       "      <td>5.0</td>\n",
       "      <td>[book, must, get, zoku, also, highly, recommen...</td>\n",
       "      <td>334</td>\n",
       "      <td>1</td>\n",
       "    </tr>\n",
       "    <tr>\n",
       "      <th>4</th>\n",
       "      <td>4.0</td>\n",
       "      <td>[cookbook, great, really, enjoyed, reviewing, ...</td>\n",
       "      <td>538</td>\n",
       "      <td>1</td>\n",
       "    </tr>\n",
       "  </tbody>\n",
       "</table>\n",
       "</div>"
      ],
      "text/plain": [
       "   overall                                         reviewText  review_length  \\\n",
       "0      5.0  [daughter, wanted, book, price, amazon, best, ...            158   \n",
       "1      5.0  [bought, zoku, quick, pop, daughterr, zoku, qu...            125   \n",
       "2      4.0  [shortage, pop, recipe, available, free, web, ...           2353   \n",
       "3      5.0  [book, must, get, zoku, also, highly, recommen...            334   \n",
       "4      4.0  [cookbook, great, really, enjoyed, reviewing, ...            538   \n",
       "\n",
       "   Positive_Negative  \n",
       "0                  1  \n",
       "1                  1  \n",
       "2                  1  \n",
       "3                  1  \n",
       "4                  1  "
      ]
     },
     "execution_count": 20,
     "metadata": {},
     "output_type": "execute_result"
    }
   ],
   "source": [
    "#Exploring the final data after text preprocessing\n",
    "df.head()"
   ]
  },
  {
   "cell_type": "code",
   "execution_count": 21,
   "metadata": {},
   "outputs": [],
   "source": [
    "#Splitting the data into train and test data\n",
    "from sklearn.model_selection import train_test_split\n",
    "x_train, x_test, y_train, y_test = train_test_split(df.reviewText, df.Positive_Negative, random_state=0)"
   ]
  },
  {
   "cell_type": "code",
   "execution_count": 22,
   "metadata": {},
   "outputs": [
    {
     "name": "stdout",
     "output_type": "stream",
     "text": [
      "x_train shape: (413599,)\n",
      "y_train shape: (413599,)\n",
      "\n",
      "x_test shape: (137867,)\n",
      "y_test shape: (137867,)\n",
      "\n"
     ]
    }
   ],
   "source": [
    "#Exploring the training and testing datasets\n",
    "print(\"x_train shape: {}\".format(x_train.shape), end='\\n')\n",
    "print(\"y_train shape: {}\".format(y_train.shape), end='\\n\\n')\n",
    "print(\"x_test shape: {}\".format(x_test.shape), end='\\n')\n",
    "print(\"y_test shape: {}\".format(y_test.shape), end='\\n\\n')"
   ]
  },
  {
   "cell_type": "code",
   "execution_count": 23,
   "metadata": {},
   "outputs": [
    {
     "name": "stdout",
     "output_type": "stream",
     "text": [
      "X_train:\n",
      "<413599x43288 sparse matrix of type '<class 'numpy.int64'>'\n",
      "\twith 16079448 stored elements in Compressed Sparse Row format>\n"
     ]
    }
   ],
   "source": [
    "# Vectorize X_train\n",
    "vectorizer = CountVectorizer(min_df=5, lowercase=False, tokenizer=lambda doc: doc).fit(x_train)\n",
    "X_train = vectorizer.transform(x_train)\n",
    "print(\"X_train:\\n{}\".format(repr(X_train)))"
   ]
  },
  {
   "cell_type": "code",
   "execution_count": 24,
   "metadata": {},
   "outputs": [
    {
     "name": "stdout",
     "output_type": "stream",
     "text": [
      "Number of features: 43288\n"
     ]
    }
   ],
   "source": [
    "#Get feature names\n",
    "feature_names = vectorizer.get_feature_names()\n",
    "print(\"Number of features: {}\".format(len(feature_names)))"
   ]
  },
  {
   "cell_type": "code",
   "execution_count": 25,
   "metadata": {},
   "outputs": [
    {
     "name": "stdout",
     "output_type": "stream",
     "text": [
      "X_test:\n",
      "<137867x43288 sparse matrix of type '<class 'numpy.int64'>'\n",
      "\twith 5356409 stored elements in Compressed Sparse Row format>\n"
     ]
    }
   ],
   "source": [
    "# Vectorize X_test\n",
    "X_test = vectorizer.transform(x_test)\n",
    "print(\"X_test:\\n{}\".format(repr(X_test)))"
   ]
  },
  {
   "cell_type": "markdown",
   "metadata": {},
   "source": [
    "## Multinomial Bayes"
   ]
  },
  {
   "cell_type": "code",
   "execution_count": 26,
   "metadata": {},
   "outputs": [
    {
     "data": {
      "text/plain": [
       "MultinomialNB(alpha=0.01, class_prior=None, fit_prior=True)"
      ]
     },
     "execution_count": 26,
     "metadata": {},
     "output_type": "execute_result"
    }
   ],
   "source": [
    "#Building multinomial classifier\n",
    "mnb = MultinomialNB(alpha=.01)\n",
    "mnb.fit(X_train, y_train)"
   ]
  },
  {
   "cell_type": "code",
   "execution_count": 27,
   "metadata": {},
   "outputs": [],
   "source": [
    "#Predictions on the test data\n",
    "mnb_y_pred = mnb.predict(X_test)"
   ]
  },
  {
   "cell_type": "code",
   "execution_count": 28,
   "metadata": {},
   "outputs": [
    {
     "name": "stdout",
     "output_type": "stream",
     "text": [
      "Accuracy:   0.857\n"
     ]
    }
   ],
   "source": [
    "#Accuracy score on the test data\n",
    "mnb_score = accuracy_score(y_test, mnb_y_pred)\n",
    "print(\"Accuracy:   {:.3f}\".format(mnb_score))"
   ]
  },
  {
   "cell_type": "code",
   "execution_count": 29,
   "metadata": {},
   "outputs": [
    {
     "name": "stdout",
     "output_type": "stream",
     "text": [
      "Confusion matrix:\n",
      "[[ 13967   9752]\n",
      " [  9898 104250]]\n",
      "\n",
      "---------------\n",
      "[['TN' 'FP']\n",
      " ['FN' 'TP']]\n"
     ]
    }
   ],
   "source": [
    "#Confusion matrix\n",
    "mnb_cfm = confusion_matrix(y_test, mnb_y_pred)\n",
    "print(\"Confusion matrix:\")\n",
    "print(mnb_cfm, end='\\n\\n')\n",
    "print('-'*15)\n",
    "print(np.array([['TN', 'FP'],[ 'FN' , 'TP']]))"
   ]
  },
  {
   "cell_type": "code",
   "execution_count": 30,
   "metadata": {},
   "outputs": [
    {
     "name": "stdout",
     "output_type": "stream",
     "text": [
      "             precision    recall  f1-score   support\n",
      "\n",
      "          0       0.59      0.59      0.59     23719\n",
      "          1       0.91      0.91      0.91    114148\n",
      "\n",
      "avg / total       0.86      0.86      0.86    137867\n",
      "\n"
     ]
    }
   ],
   "source": [
    "#Classification report\n",
    "print(classification_report(y_test, mnb_y_pred))"
   ]
  },
  {
   "cell_type": "code",
   "execution_count": 31,
   "metadata": {},
   "outputs": [
    {
     "data": {
      "text/plain": [
       "Counter({1: 114002, 0: 23865})"
      ]
     },
     "execution_count": 31,
     "metadata": {},
     "output_type": "execute_result"
    }
   ],
   "source": [
    "# Predictions count\n",
    "Counter(mnb_y_pred)"
   ]
  },
  {
   "cell_type": "markdown",
   "metadata": {},
   "source": [
    "## TfidfVectorizer"
   ]
  },
  {
   "cell_type": "code",
   "execution_count": 32,
   "metadata": {},
   "outputs": [
    {
     "name": "stdout",
     "output_type": "stream",
     "text": [
      "X_train:\n",
      "<413599x43288 sparse matrix of type '<class 'numpy.float64'>'\n",
      "\twith 16079448 stored elements in Compressed Sparse Row format>\n"
     ]
    }
   ],
   "source": [
    "# Vectorize X_train\n",
    "mnb_tfidfvectorizer = TfidfVectorizer(min_df=5, lowercase=False, tokenizer=lambda doc: doc).fit(x_train)\n",
    "mnb_X_train = mnb_tfidfvectorizer.transform(x_train)\n",
    "print(\"X_train:\\n{}\".format(repr(mnb_X_train)))"
   ]
  },
  {
   "cell_type": "code",
   "execution_count": 33,
   "metadata": {},
   "outputs": [],
   "source": [
    "#Predictions on the test data\n",
    "mnb_X_test = mnb_tfidfvectorizer.transform(x_test)\n",
    "mnb_y_pred_1 = mnb.predict(mnb_X_test)"
   ]
  },
  {
   "cell_type": "code",
   "execution_count": 34,
   "metadata": {},
   "outputs": [
    {
     "name": "stdout",
     "output_type": "stream",
     "text": [
      "Accuracy:   0.846\n"
     ]
    }
   ],
   "source": [
    "#Accuracy score on the test data\n",
    "mnb_score2 = accuracy_score(y_test, mnb_y_pred_1)\n",
    "print(\"Accuracy:   {:.3f}\".format(mnb_score2))"
   ]
  },
  {
   "cell_type": "code",
   "execution_count": 35,
   "metadata": {},
   "outputs": [
    {
     "name": "stdout",
     "output_type": "stream",
     "text": [
      "Confusion matrix:\n",
      "[[  2860  20859]\n",
      " [   419 113729]]\n",
      "\n",
      "---------------\n",
      "[['TN' 'FP']\n",
      " ['FN' 'TP']]\n"
     ]
    }
   ],
   "source": [
    "#Confusion matrix\n",
    "mnb_cfm2 = confusion_matrix(y_test, mnb_y_pred_1)\n",
    "print(\"Confusion matrix:\")\n",
    "print(mnb_cfm2, end='\\n\\n')\n",
    "print('-'*15)\n",
    "print(np.array([['TN', 'FP'],[ 'FN' , 'TP']]))"
   ]
  },
  {
   "cell_type": "code",
   "execution_count": 36,
   "metadata": {},
   "outputs": [
    {
     "name": "stdout",
     "output_type": "stream",
     "text": [
      "             precision    recall  f1-score   support\n",
      "\n",
      "          0       0.87      0.12      0.21     23719\n",
      "          1       0.85      1.00      0.91    114148\n",
      "\n",
      "avg / total       0.85      0.85      0.79    137867\n",
      "\n"
     ]
    }
   ],
   "source": [
    "#Classification report\n",
    "print(classification_report(y_test, mnb_y_pred_1))"
   ]
  },
  {
   "cell_type": "code",
   "execution_count": 37,
   "metadata": {},
   "outputs": [
    {
     "data": {
      "text/plain": [
       "Counter({1: 134588, 0: 3279})"
      ]
     },
     "execution_count": 37,
     "metadata": {},
     "output_type": "execute_result"
    }
   ],
   "source": [
    "# Predictions count\n",
    "Counter(mnb_y_pred_1)"
   ]
  },
  {
   "cell_type": "markdown",
   "metadata": {},
   "source": [
    "## Testing the predicted values with the actual data"
   ]
  },
  {
   "cell_type": "code",
   "execution_count": 38,
   "metadata": {},
   "outputs": [
    {
     "name": "stdout",
     "output_type": "stream",
     "text": [
      "In general, furniture gives me sticker shock, especially small tables like this. For $80, this is a bargain. The package arrived double-boxed and was in great shape. It took all of five minutes to put it together - the legs screw into the table top and it's ready...no need to mess around with putting the drawer together or installing glides. It's a dark cherry finish and looks great. There's no floor protectors and if you like to use the hard plastic nail-in kind, they won't work. The legs have pre-drilled holes but I'm not sure why. They're wide enough at the base to accommodate one-inch felt pads without spilling over and showing. All in all, a very nice value. For the price and fit/finish, it more than met my expectations.\n",
      "Actual Rating:     5.0\n",
      "Predicted Rating:  1\n"
     ]
    }
   ],
   "source": [
    "# POSITIVE REVIEW\n",
    "pr = data['reviewText'][355515]\n",
    "print(pr)\n",
    "print(\"Actual Rating:    \",data['overall'][355515])\n",
    "pr_t = vectorizer.transform([x_train[355515]])\n",
    "prediction= mnb.predict(pr_t)[0]\n",
    "print(\"Predicted Rating: \", prediction)"
   ]
  },
  {
   "cell_type": "code",
   "execution_count": 39,
   "metadata": {},
   "outputs": [
    {
     "name": "stdout",
     "output_type": "stream",
     "text": [
      "I needed to cover my UGLY apartment toilet.  This did the job quite well.  These are standard bathroom rugs and covers,  nothing fancy. And worth the price.\n",
      "Actual Rating:     5.0\n",
      "Predicted Rating:  1\n"
     ]
    }
   ],
   "source": [
    "# POSITIVE REVIEW\n",
    "pr = data['reviewText'][439887]\n",
    "print(pr)\n",
    "print(\"Actual Rating:    \",data['overall'][439887])\n",
    "pr_t = vectorizer.transform([x_train[439887]])\n",
    "prediction= mnb.predict(pr_t)[0]\n",
    "print(\"Predicted Rating: \", prediction)"
   ]
  },
  {
   "cell_type": "code",
   "execution_count": 40,
   "metadata": {},
   "outputs": [
    {
     "name": "stdout",
     "output_type": "stream",
     "text": [
      "So I actually bought this thinking it was the entire Lesson 2 kit. However, I've found through experience that having the book without having to take the class is a good thing. I've taken the Wilton Lesson 1 class and the number of Wilton items you have to purchase ALONG with the Lesson kit is a little ridiculous. I've worked my way through Lesson 1 and now I'm working my way (by myself) through lesson 2. I recommend anyone that likes to work on their own time to just purchase this book.\n",
      "Actual Rating:     3.0\n",
      "Predicted Rating:  0\n"
     ]
    }
   ],
   "source": [
    "# Negative REVIEW\n",
    "pr = data['reviewText'][21]\n",
    "print(pr)\n",
    "print(\"Actual Rating:    \",data['overall'][21])\n",
    "pr_t = vectorizer.transform([x_train[21]])\n",
    "prediction= mnb.predict(pr_t)[0]\n",
    "print(\"Predicted Rating: \", prediction)"
   ]
  },
  {
   "cell_type": "code",
   "execution_count": 41,
   "metadata": {},
   "outputs": [
    {
     "name": "stdout",
     "output_type": "stream",
     "text": [
      "It's basically a small flooring polisher.  It beats doing it on your hands and knees but it's not meant for doing a whole house of hardwoods at one time.\n",
      "Actual Rating:     1.0\n",
      "Predicted Rating:  0\n"
     ]
    }
   ],
   "source": [
    "# Negative REVIEW\n",
    "pr = data['reviewText'][977]\n",
    "print(pr)\n",
    "print(\"Actual Rating:    \",data['overall'][120])\n",
    "pr_t = vectorizer.transform([x_train[120]])\n",
    "prediction= mnb.predict(pr_t)[0]\n",
    "print(\"Predicted Rating: \", prediction)"
   ]
  },
  {
   "cell_type": "code",
   "execution_count": null,
   "metadata": {},
   "outputs": [],
   "source": []
  }
 ],
 "metadata": {
  "kernelspec": {
   "display_name": "Python 3",
   "language": "python",
   "name": "python3"
  },
  "language_info": {
   "codemirror_mode": {
    "name": "ipython",
    "version": 3
   },
   "file_extension": ".py",
   "mimetype": "text/x-python",
   "name": "python",
   "nbconvert_exporter": "python",
   "pygments_lexer": "ipython3",
   "version": "3.6.5"
  }
 },
 "nbformat": 4,
 "nbformat_minor": 2
}
