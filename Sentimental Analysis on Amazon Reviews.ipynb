{
 "cells": [
  {
   "cell_type": "code",
   "execution_count": 1,
   "metadata": {},
   "outputs": [],
   "source": [
    "#Import necessary packages:\n",
    "import pandas as pd\n",
    "import numpy as np\n",
    "import csv\n",
    "import seaborn as sns\n",
    "import matplotlib.pyplot as plt\n",
    "from nltk import word_tokenize\n",
    "from nltk.corpus import stopwords\n",
    "from nltk.stem import WordNetLemmatizer\n",
    "from collections import Counter\n",
    "from sklearn.feature_extraction.text import CountVectorizer, TfidfVectorizer, TfidfTransformer\n",
    "\n",
    "from sklearn.pipeline import Pipeline\n",
    "from sklearn.model_selection import GridSearchCV\n",
    "from sklearn.naive_bayes import MultinomialNB\n",
    "from sklearn.metrics import accuracy_score, confusion_matrix, f1_score, classification_report\n",
    "from scipy.sparse import csr_matrix"
   ]
  },
  {
   "cell_type": "code",
   "execution_count": 2,
   "metadata": {},
   "outputs": [],
   "source": [
    "#Loading .csv file to Pandas dataframe\n",
    "df= pd.read_csv('reviews.csv')"
   ]
  },
  {
   "cell_type": "code",
   "execution_count": 3,
   "metadata": {},
   "outputs": [],
   "source": [
    "#Protecting original data for future requirements\n",
    "data= pd.read_csv('reviews.csv')"
   ]
  },
  {
   "cell_type": "code",
   "execution_count": 4,
   "metadata": {},
   "outputs": [
    {
     "name": "stdout",
     "output_type": "stream",
     "text": [
      "<class 'pandas.core.frame.DataFrame'>\n",
      "RangeIndex: 551682 entries, 0 to 551681\n",
      "Data columns (total 2 columns):\n",
      "overall       551682 non-null float64\n",
      "reviewText    551466 non-null object\n",
      "dtypes: float64(1), object(1)\n",
      "memory usage: 8.4+ MB\n"
     ]
    }
   ],
   "source": [
    "#Exploring the data information:\n",
    "df.info()"
   ]
  },
  {
   "cell_type": "code",
   "execution_count": 5,
   "metadata": {},
   "outputs": [
    {
     "data": {
      "text/html": [
       "<div>\n",
       "<style scoped>\n",
       "    .dataframe tbody tr th:only-of-type {\n",
       "        vertical-align: middle;\n",
       "    }\n",
       "\n",
       "    .dataframe tbody tr th {\n",
       "        vertical-align: top;\n",
       "    }\n",
       "\n",
       "    .dataframe thead th {\n",
       "        text-align: right;\n",
       "    }\n",
       "</style>\n",
       "<table border=\"1\" class=\"dataframe\">\n",
       "  <thead>\n",
       "    <tr style=\"text-align: right;\">\n",
       "      <th></th>\n",
       "      <th>overall</th>\n",
       "      <th>reviewText</th>\n",
       "    </tr>\n",
       "  </thead>\n",
       "  <tbody>\n",
       "    <tr>\n",
       "      <th>0</th>\n",
       "      <td>5.0</td>\n",
       "      <td>My daughter wanted this book and the price on ...</td>\n",
       "    </tr>\n",
       "    <tr>\n",
       "      <th>1</th>\n",
       "      <td>5.0</td>\n",
       "      <td>I bought this zoku quick pop for my daughterr ...</td>\n",
       "    </tr>\n",
       "    <tr>\n",
       "      <th>2</th>\n",
       "      <td>4.0</td>\n",
       "      <td>There is no shortage of pop recipes available ...</td>\n",
       "    </tr>\n",
       "    <tr>\n",
       "      <th>3</th>\n",
       "      <td>5.0</td>\n",
       "      <td>This book is a must have if you get a Zoku (wh...</td>\n",
       "    </tr>\n",
       "    <tr>\n",
       "      <th>4</th>\n",
       "      <td>4.0</td>\n",
       "      <td>This cookbook is great.  I have really enjoyed...</td>\n",
       "    </tr>\n",
       "  </tbody>\n",
       "</table>\n",
       "</div>"
      ],
      "text/plain": [
       "   overall                                         reviewText\n",
       "0      5.0  My daughter wanted this book and the price on ...\n",
       "1      5.0  I bought this zoku quick pop for my daughterr ...\n",
       "2      4.0  There is no shortage of pop recipes available ...\n",
       "3      5.0  This book is a must have if you get a Zoku (wh...\n",
       "4      4.0  This cookbook is great.  I have really enjoyed..."
      ]
     },
     "execution_count": 5,
     "metadata": {},
     "output_type": "execute_result"
    }
   ],
   "source": [
    "#Exploring the data\n",
    "df.head()"
   ]
  },
  {
   "cell_type": "code",
   "execution_count": 6,
   "metadata": {},
   "outputs": [
    {
     "data": {
      "text/plain": [
       "216"
      ]
     },
     "execution_count": 6,
     "metadata": {},
     "output_type": "execute_result"
    }
   ],
   "source": [
    "#Number of missing values in reviews\n",
    "len(df[df['reviewText'].isnull()==True])"
   ]
  },
  {
   "cell_type": "code",
   "execution_count": 7,
   "metadata": {},
   "outputs": [],
   "source": [
    "#Dropping the NaN's in reviews column\n",
    "df=df.dropna(subset=['reviewText'])"
   ]
  },
  {
   "cell_type": "code",
   "execution_count": 8,
   "metadata": {},
   "outputs": [],
   "source": [
    "#Adding length column to the dataset\n",
    "df['review_length']= df['reviewText'].apply(len)"
   ]
  },
  {
   "cell_type": "markdown",
   "metadata": {},
   "source": [
    "## Visualization of data"
   ]
  },
  {
   "cell_type": "code",
   "execution_count": 9,
   "metadata": {},
   "outputs": [
    {
     "data": {
      "text/plain": [
       "(0, 5000)"
      ]
     },
     "execution_count": 9,
     "metadata": {},
     "output_type": "execute_result"
    },
    {
     "data": {
      "image/png": "[encoded data removed]",
      "text/plain": [
       "<Figure size 1080x216 with 5 Axes>"
      ]
     },
     "metadata": {},
     "output_type": "display_data"
    }
   ],
   "source": [
    "#Histogram grid plot\n",
    "g = sns.FacetGrid(data=df, col='overall')\n",
    "g.map(plt.hist, 'review_length')\n",
    "plt.xlim(0,5000)"
   ]
  },
  {
   "cell_type": "code",
   "execution_count": 10,
   "metadata": {},
   "outputs": [
    {
     "data": {
      "text/plain": [
       "5.0    349572\n",
       "4.0    105477\n",
       "3.0     45043\n",
       "1.0     27076\n",
       "2.0     24298\n",
       "Name: overall, dtype: int64"
      ]
     },
     "execution_count": 10,
     "metadata": {},
     "output_type": "execute_result"
    }
   ],
   "source": [
    "#Value counts of the overall rating\n",
    "df['overall'].value_counts()"
   ]
  },
  {
   "cell_type": "markdown",
   "metadata": {},
   "source": [
    "## Preprocessing the text"
   ]
  },
  {
   "cell_type": "code",
   "execution_count": 11,
   "metadata": {},
   "outputs": [],
   "source": [
    "#Converting all the text to lowercase\n",
    "df['reviewText']= df['reviewText'].str.lower()"
   ]
  },
  {
   "cell_type": "code",
   "execution_count": 12,
   "metadata": {},
   "outputs": [],
   "source": [
    "# Str replace all non-alphanumeric whitespace\n",
    "df[\"reviewText\"] = df[\"reviewText\"].str.replace('[^\\w\\s]','')"
   ]
  },
  {
   "cell_type": "code",
   "execution_count": 13,
   "metadata": {},
   "outputs": [],
   "source": [
    "#Removing all the numeric values in the text\n",
    "df[\"reviewText\"] = df[\"reviewText\"].str.replace('\\d+', '')"
   ]
  },
  {
   "cell_type": "code",
   "execution_count": 14,
   "metadata": {},
   "outputs": [],
   "source": [
    "#Tokenizing the text\n",
    "df[\"reviewText\"] = df[\"reviewText\"].apply(word_tokenize) "
   ]
  },
  {
   "cell_type": "code",
   "execution_count": 15,
   "metadata": {},
   "outputs": [],
   "source": [
    "#Function to remove stops words\n",
    "stop = stopwords.words('english')\n",
    "def remove_stopwords(tokens):\n",
    "    return([token for token in tokens if token not in stop])"
   ]
  },
  {
   "cell_type": "code",
   "execution_count": 16,
   "metadata": {},
   "outputs": [],
   "source": [
    "#Applying function to remove stop words\n",
    "df[\"reviewText\"] = df[\"reviewText\"].apply(lambda x: remove_stopwords(x)) "
   ]
  },
  {
   "cell_type": "code",
   "execution_count": 17,
   "metadata": {},
   "outputs": [],
   "source": [
    "# Instantiate and define the WordNetLemmatizer\n",
    "lemmatizer = WordNetLemmatizer()\n",
    "def lemmatize(tokens):\n",
    "    return([lemmatizer.lemmatize(token) for token in tokens])"
   ]
  },
  {
   "cell_type": "code",
   "execution_count": 18,
   "metadata": {},
   "outputs": [],
   "source": [
    "#Lemmatizing the text\n",
    "df['reviewText']=df['reviewText'].apply(lambda x: lemmatize(x))"
   ]
  },
  {
   "cell_type": "code",
   "execution_count": 19,
   "metadata": {},
   "outputs": [],
   "source": [
    "#Creating a positive and negative review column for predictions\n",
    "df['Positive_Negative']= [1 if x > 3 else 0 for x in df['overall']]"
   ]
  },
  {
   "cell_type": "code",
   "execution_count": 20,
   "metadata": {},
   "outputs": [
    {
     "data": {
      "text/html": [
       "<div>\n",
       "<style scoped>\n",
       "    .dataframe tbody tr th:only-of-type {\n",
       "        vertical-align: middle;\n",
       "    }\n",
       "\n",
       "    .dataframe tbody tr th {\n",
       "        vertical-align: top;\n",
       "    }\n",
       "\n",
       "    .dataframe thead th {\n",
       "        text-align: right;\n",
       "    }\n",
       "</style>\n",
       "<table border=\"1\" class=\"dataframe\">\n",
       "  <thead>\n",
       "    <tr style=\"text-align: right;\">\n",
       "      <th></th>\n",
       "      <th>overall</th>\n",
       "      <th>reviewText</th>\n",
       "      <th>review_length</th>\n",
       "      <th>Positive_Negative</th>\n",
       "    </tr>\n",
       "  </thead>\n",
       "  <tbody>\n",
       "    <tr>\n",
       "      <th>0</th>\n",
       "      <td>5.0</td>\n",
       "      <td>[daughter, wanted, book, price, amazon, best, ...</td>\n",
       "      <td>158</td>\n",
       "      <td>1</td>\n",
       "    </tr>\n",
       "    <tr>\n",
       "      <th>1</th>\n",
       "      <td>5.0</td>\n",
       "      <td>[bought, zoku, quick, pop, daughterr, zoku, qu...</td>\n",
       "      <td>125</td>\n",
       "      <td>1</td>\n",
       "    </tr>\n",
       "    <tr>\n",
       "      <th>2</th>\n",
       "      <td>4.0</td>\n",
       "      <td>[shortage, pop, recipe, available, free, web, ...</td>\n",
       "      <td>2353</td>\n",
       "      <td>1</td>\n",
       "    </tr>\n",
       "    <tr>\n",
       "      <th>3</th>\n",
       "      <td>5.0</td>\n",
       "      <td>[book, must, get, zoku, also, highly, recommen...</td>\n",
       "      <td>334</td>\n",
       "      <td>1</td>\n",
       "    </tr>\n",
       "    <tr>\n",
       "      <th>4</th>\n",
       "      <td>4.0</td>\n",
       "      <td>[cookbook, great, really, enjoyed, reviewing, ...</td>\n",
       "      <td>538</td>\n",
       "      <td>1</td>\n",
       "    </tr>\n",
       "  </tbody>\n",
       "</table>\n",
       "</div>"
      ],
      "text/plain": [
       "   overall                                         reviewText  review_length  \\\n",
       "0      5.0  [daughter, wanted, book, price, amazon, best, ...            158   \n",
       "1      5.0  [bought, zoku, quick, pop, daughterr, zoku, qu...            125   \n",
       "2      4.0  [shortage, pop, recipe, available, free, web, ...           2353   \n",
       "3      5.0  [book, must, get, zoku, also, highly, recommen...            334   \n",
       "4      4.0  [cookbook, great, really, enjoyed, reviewing, ...            538   \n",
       "\n",
       "   Positive_Negative  \n",
       "0                  1  \n",
       "1                  1  \n",
       "2                  1  \n",
       "3                  1  \n",
       "4                  1  "
      ]
     },
     "execution_count": 20,
     "metadata": {},
     "output_type": "execute_result"
    }
   ],
   "source": [
    "#Exploring the final data after text preprocessing\n",
    "df.head()"
   ]
  },
  {
   "cell_type": "markdown",
   "metadata": {},
   "source": [
    "## Building a model"
   ]
  },
  {
   "cell_type": "code",
   "execution_count": 21,
   "metadata": {},
   "outputs": [],
   "source": [
    "#Splitting the data into train and test data\n",
    "from sklearn.model_selection import train_test_split\n",
    "x_train, x_test, y_train, y_test = train_test_split(df.reviewText, df.Positive_Negative, random_state=0)"
   ]
  },
  {
   "cell_type": "code",
   "execution_count": 22,
   "metadata": {},
   "outputs": [
    {
     "name": "stdout",
     "output_type": "stream",
     "text": [
      "x_train shape: (413599,)\n",
      "y_train shape: (413599,)\n",
      "\n",
      "x_test shape: (137867,)\n",
      "y_test shape: (137867,)\n",
      "\n"
     ]
    }
   ],
   "source": [
    "#Exploring the training and testing datasets\n",
    "print(\"x_train shape: {}\".format(x_train.shape), end='\\n')\n",
    "print(\"y_train shape: {}\".format(y_train.shape), end='\\n\\n')\n",
    "print(\"x_test shape: {}\".format(x_test.shape), end='\\n')\n",
    "print(\"y_test shape: {}\".format(y_test.shape), end='\\n\\n')"
   ]
  },
  {
   "cell_type": "code",
   "execution_count": 23,
   "metadata": {},
   "outputs": [
    {
     "data": {
      "text/plain": [
       "GridSearchCV(cv=2, error_score='raise',\n",
       "       estimator=Pipeline(memory=None,\n",
       "     steps=[('vect', TfidfVectorizer(analyzer='word', binary=False, decode_error='strict',\n",
       "        dtype=<class 'numpy.int64'>, encoding='utf-8', input='content',\n",
       "        lowercase=False, max_df=1.0, max_features=None, min_df=5,\n",
       "        ngram_range=(1, 1), norm='l2', preprocessor=None, smooth_idf=True,\n",
       " ...rue,\n",
       "        vocabulary=None)), ('clf', MultinomialNB(alpha=1.0, class_prior=None, fit_prior=True))]),\n",
       "       fit_params=None, iid=True, n_jobs=1,\n",
       "       param_grid={'vect__ngram_range': [(1, 1), (1, 2), (2, 2)], 'clf__alpha': [1, 0.1, 0.01]},\n",
       "       pre_dispatch='2*n_jobs', refit=True, return_train_score='warn',\n",
       "       scoring='accuracy', verbose=0)"
      ]
     },
     "execution_count": 23,
     "metadata": {},
     "output_type": "execute_result"
    }
   ],
   "source": [
    "# Creating a model\n",
    "vectorizer = TfidfVectorizer(min_df=5, lowercase=False, tokenizer=lambda doc: doc)\n",
    "clf= MultinomialNB()\n",
    "text_clf = Pipeline([('vect', vectorizer),\n",
    "                     ('clf', MultinomialNB())])\n",
    "tuned_parameters = {\n",
    "    'vect__ngram_range': [(1, 1), (1, 2), (2, 2)],\n",
    "    'clf__alpha': [1, 1e-1, 1e-2]\n",
    "}\n",
    "clf = GridSearchCV(text_clf, tuned_parameters, cv=2, scoring='accuracy')\n",
    "clf.fit(x_train, y_train)"
   ]
  },
  {
   "cell_type": "code",
   "execution_count": 24,
   "metadata": {},
   "outputs": [],
   "source": [
    "#Predicting on test data\n",
    "pred= clf.predict(x_test)"
   ]
  },
  {
   "cell_type": "markdown",
   "metadata": {},
   "source": [
    "## Predictions evaluation"
   ]
  },
  {
   "cell_type": "code",
   "execution_count": 25,
   "metadata": {},
   "outputs": [
    {
     "name": "stdout",
     "output_type": "stream",
     "text": [
      "             precision    recall  f1-score   support\n",
      "\n",
      "          0       0.83      0.40      0.54     23719\n",
      "          1       0.89      0.98      0.93    114148\n",
      "\n",
      "avg / total       0.88      0.88      0.87    137867\n",
      "\n"
     ]
    }
   ],
   "source": [
    "#Getting Classification report\n",
    "print(classification_report(y_test, pred))"
   ]
  },
  {
   "cell_type": "code",
   "execution_count": 26,
   "metadata": {},
   "outputs": [
    {
     "name": "stdout",
     "output_type": "stream",
     "text": [
      "[[  9490  14229]\n",
      " [  1945 112203]]\n"
     ]
    }
   ],
   "source": [
    "#Getting Confustion matrix\n",
    "print(confusion_matrix(y_test, pred))"
   ]
  },
  {
   "cell_type": "code",
   "execution_count": 27,
   "metadata": {},
   "outputs": [
    {
     "name": "stdout",
     "output_type": "stream",
     "text": [
      "Accuracy:   0.883\n"
     ]
    }
   ],
   "source": [
    "#Accuracy score on the test data\n",
    "score = accuracy_score(y_test, pred)\n",
    "print(\"Accuracy:   {:.3f}\".format(score))"
   ]
  },
  {
   "cell_type": "markdown",
   "metadata": {},
   "source": [
    "## Testing the predictions on single review"
   ]
  },
  {
   "cell_type": "code",
   "execution_count": 28,
   "metadata": {},
   "outputs": [
    {
     "name": "stdout",
     "output_type": "stream",
     "text": [
      "In general, furniture gives me sticker shock, especially small tables like this. For $80, this is a bargain. The package arrived double-boxed and was in great shape. It took all of five minutes to put it together - the legs screw into the table top and it's ready...no need to mess around with putting the drawer together or installing glides. It's a dark cherry finish and looks great. There's no floor protectors and if you like to use the hard plastic nail-in kind, they won't work. The legs have pre-drilled holes but I'm not sure why. They're wide enough at the base to accommodate one-inch felt pads without spilling over and showing. All in all, a very nice value. For the price and fit/finish, it more than met my expectations.\n",
      "Actual Rating:     5.0\n",
      "Predicted Rating:  1\n"
     ]
    }
   ],
   "source": [
    "# POSITIVE REVIEW\n",
    "pr = data['reviewText'][355515]\n",
    "print(pr)\n",
    "print(\"Actual Rating:    \",data['overall'][355515])\n",
    "prediction= clf.predict([x_train[355515]])[0]\n",
    "print(\"Predicted Rating: \", prediction)"
   ]
  },
  {
   "cell_type": "code",
   "execution_count": 29,
   "metadata": {},
   "outputs": [
    {
     "name": "stdout",
     "output_type": "stream",
     "text": [
      "I needed to cover my UGLY apartment toilet.  This did the job quite well.  These are standard bathroom rugs and covers,  nothing fancy. And worth the price.\n",
      "Actual Rating:     5.0\n",
      "Predicted Rating:  1\n"
     ]
    }
   ],
   "source": [
    "# POSITIVE REVIEW\n",
    "pr = data['reviewText'][439887]\n",
    "print(pr)\n",
    "print(\"Actual Rating:    \",data['overall'][439887])\n",
    "prediction= clf.predict([x_train[439887]])[0]\n",
    "print(\"Predicted Rating: \", prediction)"
   ]
  },
  {
   "cell_type": "code",
   "execution_count": 30,
   "metadata": {},
   "outputs": [
    {
     "name": "stdout",
     "output_type": "stream",
     "text": [
      "After just over a week my unit began to make a clicking noise like a moving part was hitting something.  The back on all these also gets quite hot.\n",
      "Actual Rating:     1.0\n",
      "Predicted Rating:  0\n"
     ]
    }
   ],
   "source": [
    "# Negative REVIEW\n",
    "nr = data['reviewText'][578]\n",
    "print(nr)\n",
    "print(\"Actual Rating:    \",data['overall'][578])\n",
    "prediction= clf.predict([x_train[578]])[0]\n",
    "print(\"Predicted Rating: \", prediction)"
   ]
  },
  {
   "cell_type": "markdown",
   "metadata": {},
   "source": [
    "## Evaluating the most important features"
   ]
  },
  {
   "cell_type": "code",
   "execution_count": 31,
   "metadata": {},
   "outputs": [],
   "source": [
    "#Assiging best estimators\n",
    "vectorizer = clf.best_estimator_.named_steps['vect']\n",
    "classifier = clf.best_estimator_.named_steps['clf']"
   ]
  },
  {
   "cell_type": "code",
   "execution_count": 32,
   "metadata": {},
   "outputs": [],
   "source": [
    "def most_informative_feature(vectorizer, classifier):\n",
    "    class_labels = classifier.classes_\n",
    "    feature_names = vectorizer.get_feature_names()\n",
    "    top_20 = sorted(zip(classifier.feature_count_[1], feature_names),reverse=True)[:20]\n",
    "    last_20 = sorted(zip(classifier.feature_count_[1], feature_names),reverse=True)[-20:]\n",
    "    \n",
    "    #Dataframe for high coef positive words\n",
    "    data1=pd.DataFrame([])\n",
    "    for coef, feat in top_20:\n",
    "        result1=coef\n",
    "        result2=feat\n",
    "        data1=data1.append(pd.DataFrame({'Words': result2,'Coef': result1,}, index=[0]), ignore_index=True)\n",
    "    \n",
    "\n",
    "     #Dataframe for low coef positive words\n",
    "    data2=pd.DataFrame([])\n",
    "    for coef, feat in last_20:\n",
    "        result1=coef\n",
    "        result2=feat\n",
    "        data2=data2.append(pd.DataFrame({'Words': result2,'Coef': result1}, index=[0]), ignore_index=True)\n",
    "        \n",
    "     #Returning the two dataframes togeather\n",
    "    return(pd.concat([data1, data2], axis=1))\n",
    "\n",
    "Pos_Features= most_informative_feature(vectorizer, classifier)"
   ]
  },
  {
   "cell_type": "code",
   "execution_count": 33,
   "metadata": {},
   "outputs": [
    {
     "data": {
      "text/html": [
       "<div>\n",
       "<style scoped>\n",
       "    .dataframe tbody tr th:only-of-type {\n",
       "        vertical-align: middle;\n",
       "    }\n",
       "\n",
       "    .dataframe tbody tr th {\n",
       "        vertical-align: top;\n",
       "    }\n",
       "\n",
       "    .dataframe thead th {\n",
       "        text-align: right;\n",
       "    }\n",
       "</style>\n",
       "<table border=\"1\" class=\"dataframe\">\n",
       "  <thead>\n",
       "    <tr style=\"text-align: right;\">\n",
       "      <th></th>\n",
       "      <th>Words</th>\n",
       "      <th>Coef</th>\n",
       "      <th>Words</th>\n",
       "      <th>Coef</th>\n",
       "    </tr>\n",
       "  </thead>\n",
       "  <tbody>\n",
       "    <tr>\n",
       "      <th>0</th>\n",
       "      <td>one</td>\n",
       "      <td>5174.100856</td>\n",
       "      <td>already warped</td>\n",
       "      <td>0.0</td>\n",
       "    </tr>\n",
       "    <tr>\n",
       "      <th>1</th>\n",
       "      <td>great</td>\n",
       "      <td>5162.224988</td>\n",
       "      <td>already trash</td>\n",
       "      <td>0.0</td>\n",
       "    </tr>\n",
       "    <tr>\n",
       "      <th>2</th>\n",
       "      <td>use</td>\n",
       "      <td>4781.866614</td>\n",
       "      <td>already threw</td>\n",
       "      <td>0.0</td>\n",
       "    </tr>\n",
       "    <tr>\n",
       "      <th>3</th>\n",
       "      <td>like</td>\n",
       "      <td>4051.064358</td>\n",
       "      <td>already dull</td>\n",
       "      <td>0.0</td>\n",
       "    </tr>\n",
       "    <tr>\n",
       "      <th>4</th>\n",
       "      <td>well</td>\n",
       "      <td>4029.957485</td>\n",
       "      <td>almost thereok</td>\n",
       "      <td>0.0</td>\n",
       "    </tr>\n",
       "    <tr>\n",
       "      <th>5</th>\n",
       "      <td>love</td>\n",
       "      <td>3990.733786</td>\n",
       "      <td>almost suction</td>\n",
       "      <td>0.0</td>\n",
       "    </tr>\n",
       "    <tr>\n",
       "      <th>6</th>\n",
       "      <td>easy</td>\n",
       "      <td>3913.053702</td>\n",
       "      <td>allowing return</td>\n",
       "      <td>0.0</td>\n",
       "    </tr>\n",
       "    <tr>\n",
       "      <th>7</th>\n",
       "      <td>work</td>\n",
       "      <td>3837.030906</td>\n",
       "      <td>allegedly written</td>\n",
       "      <td>0.0</td>\n",
       "    </tr>\n",
       "    <tr>\n",
       "      <th>8</th>\n",
       "      <td>good</td>\n",
       "      <td>3695.426805</td>\n",
       "      <td>air squeeze</td>\n",
       "      <td>0.0</td>\n",
       "    </tr>\n",
       "    <tr>\n",
       "      <th>9</th>\n",
       "      <td>make</td>\n",
       "      <td>3262.796444</td>\n",
       "      <td>aint worth</td>\n",
       "      <td>0.0</td>\n",
       "    </tr>\n",
       "    <tr>\n",
       "      <th>10</th>\n",
       "      <td>would</td>\n",
       "      <td>3112.102033</td>\n",
       "      <td>address email</td>\n",
       "      <td>0.0</td>\n",
       "    </tr>\n",
       "    <tr>\n",
       "      <th>11</th>\n",
       "      <td>time</td>\n",
       "      <td>3008.819122</td>\n",
       "      <td>additionally taste</td>\n",
       "      <td>0.0</td>\n",
       "    </tr>\n",
       "    <tr>\n",
       "      <th>12</th>\n",
       "      <td>nice</td>\n",
       "      <td>2961.160138</td>\n",
       "      <td>ad state</td>\n",
       "      <td>0.0</td>\n",
       "    </tr>\n",
       "    <tr>\n",
       "      <th>13</th>\n",
       "      <td>get</td>\n",
       "      <td>2943.025537</td>\n",
       "      <td>actual practice</td>\n",
       "      <td>0.0</td>\n",
       "    </tr>\n",
       "    <tr>\n",
       "      <th>14</th>\n",
       "      <td>really</td>\n",
       "      <td>2810.225849</td>\n",
       "      <td>action suit</td>\n",
       "      <td>0.0</td>\n",
       "    </tr>\n",
       "    <tr>\n",
       "      <th>15</th>\n",
       "      <td>coffee</td>\n",
       "      <td>2798.333811</td>\n",
       "      <td>according repair</td>\n",
       "      <td>0.0</td>\n",
       "    </tr>\n",
       "    <tr>\n",
       "      <th>16</th>\n",
       "      <td>pan</td>\n",
       "      <td>2766.720188</td>\n",
       "      <td>accessible co</td>\n",
       "      <td>0.0</td>\n",
       "    </tr>\n",
       "    <tr>\n",
       "      <th>17</th>\n",
       "      <td>product</td>\n",
       "      <td>2749.478589</td>\n",
       "      <td>absolutely worthless</td>\n",
       "      <td>0.0</td>\n",
       "    </tr>\n",
       "    <tr>\n",
       "      <th>18</th>\n",
       "      <td>little</td>\n",
       "      <td>2708.519628</td>\n",
       "      <td>absolute waste</td>\n",
       "      <td>0.0</td>\n",
       "    </tr>\n",
       "    <tr>\n",
       "      <th>19</th>\n",
       "      <td>bought</td>\n",
       "      <td>2684.038892</td>\n",
       "      <td>absolute piece</td>\n",
       "      <td>0.0</td>\n",
       "    </tr>\n",
       "  </tbody>\n",
       "</table>\n",
       "</div>"
      ],
      "text/plain": [
       "      Words         Coef                 Words  Coef\n",
       "0       one  5174.100856        already warped   0.0\n",
       "1     great  5162.224988         already trash   0.0\n",
       "2       use  4781.866614         already threw   0.0\n",
       "3      like  4051.064358          already dull   0.0\n",
       "4      well  4029.957485        almost thereok   0.0\n",
       "5      love  3990.733786        almost suction   0.0\n",
       "6      easy  3913.053702       allowing return   0.0\n",
       "7      work  3837.030906     allegedly written   0.0\n",
       "8      good  3695.426805           air squeeze   0.0\n",
       "9      make  3262.796444            aint worth   0.0\n",
       "10    would  3112.102033         address email   0.0\n",
       "11     time  3008.819122    additionally taste   0.0\n",
       "12     nice  2961.160138              ad state   0.0\n",
       "13      get  2943.025537       actual practice   0.0\n",
       "14   really  2810.225849           action suit   0.0\n",
       "15   coffee  2798.333811      according repair   0.0\n",
       "16      pan  2766.720188         accessible co   0.0\n",
       "17  product  2749.478589  absolutely worthless   0.0\n",
       "18   little  2708.519628        absolute waste   0.0\n",
       "19   bought  2684.038892        absolute piece   0.0"
      ]
     },
     "execution_count": 33,
     "metadata": {},
     "output_type": "execute_result"
    }
   ],
   "source": [
    "Pos_Features"
   ]
  },
  {
   "cell_type": "code",
   "execution_count": null,
   "metadata": {},
   "outputs": [],
   "source": []
  }
 ],
 "metadata": {
  "kernelspec": {
   "display_name": "Python 3",
   "language": "python",
   "name": "python3"
  },
  "language_info": {
   "codemirror_mode": {
    "name": "ipython",
    "version": 3
   },
   "file_extension": ".py",
   "mimetype": "text/x-python",
   "name": "python",
   "nbconvert_exporter": "python",
   "pygments_lexer": "ipython3",
   "version": "3.6.5"
  }
 },
 "nbformat": 4,
 "nbformat_minor": 2
}
